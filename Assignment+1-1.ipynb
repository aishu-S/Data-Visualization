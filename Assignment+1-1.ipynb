{
 "cells": [
  {
   "cell_type": "markdown",
   "metadata": {},
   "source": [
    "# Assignment 1: Dino Fun World\n",
    "\n",
    "You, in your role as a burgeoning data explorer and visualizer, have been asked by the administrators of a small amusement park in your hometown to answer a couple questions about their park operations. In order to perform the requested analysis, they have provided you with a database containing information about one day of the park's operations.\n",
    "\n",
    "### Provided Database\n",
    "\n",
    "The database provided by the park administration is formatted to be readable by any SQL database library. The course staff recommends the sqlite3 library. The database contains three tables, named 'checkins', 'attractions', and 'sequences'. The information contained in each of these tables is listed below:\n",
    "\n",
    "`checkins`:\n",
    "    - Description: check-in data for all visitors for the day in the park. The data includes two types of check-ins, inferred and actual checkins.\n",
    "    - Fields: visitorID, timestamp, attraction, duration, type\n",
    "`attraction`:\n",
    "    - The attractions in the park by their corresponding AttractionID, Name, Region, Category, and type. Regions are from the VAST Challenge map such as Coaster Alley, Tundra Land, etc. Categories include Thrill rides, Kiddie Rides, etc. Type is broken into Outdoor Coaster, Other Ride, Carussel, etc.\n",
    "    - Fields: AttractionID, Name, Region, Category, type\n",
    "`sequences`:\n",
    "    - The check-in sequences of visitors. These sequences list the position of each visitor to the park every five minutes. If the visitor has not entered the part yet, the sequence has a value of 0 for that time interval. If the visitor is in the park, the sequence lists the attraction they have most recently checked in to until they check in to a new one or leave the park.\n",
    "    - Fields: visitorID, sequence\n",
    "    \n",
    "The database is named 'dinofunworld.db' and is located in the 'readonly' directory of the Jupyter Notebook environment. It can be accessed at 'readonly/dinofunworld.db'.\n",
    "\n",
    "### Questions to Answer\n",
    "\n",
    "The administrators would like you to answer four relatively simple questions about the park activities on the day in question. These questions all deal with park operations and can be answered using the data provided.\n",
    "\n",
    "Question 1: What is the most popular attraction to visit in the park?\n",
    "Question 2: What ride (note that not all attractions are rides) has the longest visit time?\n",
    "Question 3: Which Fast Food offering has the fewest visitors?\n",
    "Question 4: Compute the Skyline of number of visits and visit time for the park's ride and report the rides that appear in the Skyline.\n",
    "\n",
    "#### Administrative Notes\n",
    "\n",
    "This assignment will be graded by Coursera's grading system. In order for your answers to be correctly registered in the system, you must place the code for your answers in the cell indicated for each question. In addition, you should submit the assignment with the output of the code in the cell's display area. The display area should contain only your answer to the question with no extraneous information, or else the answer may not be picked up correctly. Each cell that is going to be graded has a set of comment lines at the beginning of the cell. These lines are extremely important and must not be modified or removed."
   ]
  },
  {
   "cell_type": "code",
   "execution_count": 1,
   "metadata": {
    "scrolled": false
   },
   "outputs": [
    {
     "name": "stdout",
     "output_type": "stream",
     "text": [
      "Atmosfear\n"
     ]
    }
   ],
   "source": [
    "import sqlite3\n",
    "from datetime import timedelta\n",
    "import operator\n",
    "\n",
    "db_filename = 'dinofunworld.db'\n",
    "conn = sqlite3.connect(db_filename)\n",
    "c = conn.cursor()\n",
    "\n",
    "# Graded Cell\n",
    "# PartID:  NDnou\n",
    "# Question 1: What is the most popular attraction to visit in the park?\n",
    "# Notes: Your output should be the name of the attraction.\n",
    "\n",
    "c.execute(\"select name from checkin, attraction where checkin.attraction = attraction.attractionid group by name order by count(*) desc limit 1\")\n",
    "most_popular_attraction = c.fetchone()[0]\n",
    "#print(\"1. Most popular attraction to visit in the park is:\")\n",
    "print(most_popular_attraction)"
   ]
  },
  {
   "cell_type": "code",
   "execution_count": 2,
   "metadata": {},
   "outputs": [
    {
     "name": "stdout",
     "output_type": "stream",
     "text": [
      "Flight of the Swingodon\n"
     ]
    }
   ],
   "source": [
    "# Graded Cell\n",
    "# PartID: FXGHp\n",
    "# Question 2: What ride (note that not all attractions are rides) has the longest average visit time?\n",
    "# Notes: Your output should be the name of the ride.\n",
    "\n",
    "durations = {}\n",
    "c.execute(\"Select attractionid from attraction where lower(category) like lower('%ride%')\")\n",
    "all_attractionids = c.fetchall()\n",
    "\n",
    "for attractionid in all_attractionids:\n",
    "    rideid = attractionid[0]\n",
    "    c.execute(\"select duration from checkin where attraction=\" + str(rideid))\n",
    "    duration = 0\n",
    "    checkin_durations = c.fetchall()\n",
    "    \n",
    "    for i in checkin_durations:\n",
    "        try:\n",
    "            time = timedelta(int(i[0].split(':')[0]), int(i[0].split(':')[1]), int(i[0].split(':')[2])).total_seconds()\n",
    "            duration += time\n",
    "        except (ValueError, AttributeError) as e:\n",
    "          #  print(e)\n",
    "            continue\n",
    "\n",
    "    durations[rideid] = duration\n",
    "\n",
    "max_wait_attraction = max(durations.items(), key=operator.itemgetter(1))[0]\n",
    "c.execute(\"select Name from attraction where AttractionID=\" + str(max_wait_attraction))\n",
    "\n",
    "#print(\"2. The ride with the longest average visit time is:\")\n",
    "print(c.fetchone()[0])"
   ]
  },
  {
   "cell_type": "code",
   "execution_count": 3,
   "metadata": {},
   "outputs": [
    {
     "name": "stdout",
     "output_type": "stream",
     "text": [
      "Theresaur Food Stop\n"
     ]
    }
   ],
   "source": [
    "# Graded Cell\n",
    "# PartID: KALua\n",
    "# Question 3: Which Fast Food offering in the park has the fewest visitors?\n",
    "# Notes: Your output should be the name of the fast food offering.\n",
    "\n",
    "c.execute(\"select name from attraction, checkin where attraction.attractionid = checkin.attraction and attraction.type='Fast Food' group by name order by count(*)\")\n",
    "#print(\"3. The fast food shop with the fewest visitors is:\")\n",
    "print(c.fetchone()[0])"
   ]
  },
  {
   "cell_type": "code",
   "execution_count": 4,
   "metadata": {},
   "outputs": [
    {
     "name": "stdout",
     "output_type": "stream",
     "text": [
      "Wrightiraptor Mountain\n",
      "Atmosfear\n",
      "Dykesadactyl Thrill\n"
     ]
    }
   ],
   "source": [
    "# Graded Cell\n",
    "# PartID: B0LUP\n",
    "# Question 4: Compute the Skyline of number of visits and visit time for the park's ride and \n",
    "#  report the rides that appear in the Skyline. \n",
    "# Notes: Remember that in this case, higher visits is better and lower visit times are better. \n",
    "#  Your output should be formatted as an array listing the names of the rides in the Skyline.\n",
    "\n",
    "rides = {}\n",
    "c.execute(\"select attractionid from attraction where lower(category) like lower('%ride%')\")\n",
    "all_attractionids = c.fetchall()\n",
    "\n",
    "for attractionid in all_attractionids:\n",
    "    rideid = attractionid[0]\n",
    "    c.execute(\"select duration from checkin where attraction=\" + str(rideid))\n",
    "    duration_of_ride = 0\n",
    "    \n",
    "    for d in c.fetchall():\n",
    "        try:\n",
    "            duration_of_ride += timedelta(int(d[0].split(':')[0]), int(d[0].split(':')[1]), int(d[0].split(':')[2])).total_seconds()\n",
    "        except (ValueError, AttributeError) as e:\n",
    "            continue\n",
    "            \n",
    "    rides[rideid] = [duration_of_ride]\n",
    "    c.execute(\"select count(*) from checkin where attraction=\" + str(rideid))\n",
    "    count = c.fetchone()[0]\n",
    "    rides[rideid].append(count)\n",
    "\n",
    "ride1 = list(rides.keys())[0]\n",
    "ride2 = ride1\n",
    "ride3 = ride2\n",
    "\n",
    "for ride in rides:\n",
    "    if rides[ride][0] < rides[ride2][0]:\n",
    "        ride2 = ride\n",
    "    if rides[ride][1] > rides[ride1][1]:\n",
    "        ride1 = ride\n",
    "    if (rides[ride][0] < rides[ride3][0]) and (rides[ride][1] > rides[ride3][1]):\n",
    "        ride3 = ride\n",
    "\n",
    "c.execute(\"select name from attraction where attractionid in (\" + str(ride1) + \",\" + str(ride2) + \",\" + str(ride3) + \")\")\n",
    "final_rides = c.fetchall()\n",
    "for r in final_rides:\n",
    "    print(r[0])"
   ]
  }
 ],
 "metadata": {
  "kernelspec": {
   "display_name": "Python 3",
   "language": "python",
   "name": "python3"
  },
  "language_info": {
   "codemirror_mode": {
    "name": "ipython",
    "version": 3
   },
   "file_extension": ".py",
   "mimetype": "text/x-python",
   "name": "python",
   "nbconvert_exporter": "python",
   "pygments_lexer": "ipython3",
   "version": "3.7.7"
  }
 },
 "nbformat": 4,
 "nbformat_minor": 2
}
